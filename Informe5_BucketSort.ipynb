{
  "nbformat": 4,
  "nbformat_minor": 0,
  "metadata": {
    "colab": {
      "provenance": [],
      "collapsed_sections": [
        "MO9AAC90a6SD"
      ]
    },
    "kernelspec": {
      "name": "python3",
      "display_name": "Python 3"
    },
    "language_info": {
      "name": "python"
    }
  },
  "cells": [
    {
      "cell_type": "markdown",
      "source": [
        "#**BucketSort**\n",
        "\n",
        "##1. Descripción del Problema \n",
        "\n",
        "El problema del ordenamiento de datos es en particular, uno de los más estudiados y análizados, al punto de tener muchas estrategias, paradigmas y métodos de resolución. Sin embargo, cuando se compararan algunas de las muchas soluciones ya encontradas al problema mencionado, es posible notar ciertas diferencias en la naturaleza que siguen los algoritmos que pueden causar que este posea características especiales que definan su utilidad.\n",
        "\n",
        "Un algoritmo de ordenamiento no sólo tiene que ser eficar en su función, sino que también se le puede exigir estabilidad y eficiencia en su trabajo. La primera de aquellas cualidades, permite que el algoritmo pueda trabajar con datos más complejos (como estadísticas) y que los elementos repetidos no causen problemas; la segunda, permite que el algoritmo pueda trabajar con un gran número de datos $n$ sin tardar mucho tiempo. Por las razones anteriores, es que resulta necesario encontrar un método de ordenamiento que permita trabajar problemas de tamaño $n$, y que pueda cumplir con las cualidades descritas.\n",
        "\n",
        "---\n",
        "\n",
        "#### **Entradas y Salidas:**\n",
        "\n",
        "**Entrada**: Secuencia de n números en un arreglo. Ejemplo: $[n_1,n_2,...,n_m]$\n",
        "\n",
        "**Salida**: Serie de números ordenada en base de los datos de entrada. Por lo que si la salida es un arreglo $[n_1',n_2',...,n_m']$, se cumple que $n_1'\\leq n_2' \\leq... \\leq n_m'$ o $n_1'\\ge n_2' \\ge... \\ge n_m'$."
      ],
      "metadata": {
        "id": "G0oAK8udXMxX"
      }
    },
    {
      "cell_type": "markdown",
      "source": [
        "##2. Descripción del Algoritmo\n",
        "\n",
        "Para resolver el problema planteado en el punto anterior, es que existen algunos algoritmos de ordenamiento en tiempo lineal, o sea, que su complejidad temporal depende de un sólo factor de $n$. El algoritmo que se describirá en este punto será el **BucketSort**. \n",
        "\n",
        "**BucketSort** es un algoritmo de ordenamiento ***no comparativo*** que se basa en separar un arreglo $A$ en pequeños sub-arreglos llamados \"*Buckets*\". Lo que vuelve característicos a estos \"*Buckets*\", es que cada uno de ellos almacenará a los elementos que estén en cierto intervalo definido, es decir, a cada \"*Bucket*\" le toca guardar a los $c$ elementos que estén contenidos en su intervalo asignado $[a,b]$. Posterior a tener los elementos, el **BucketSort** utilizará otro algoritmo de ordenamiento (comparativo) para ordenar los datos en cada sub-arreglo, para finalmente \"vaciar\" los \"*Buckets*\" en orden dentro del arreglo original.\n",
        "\n",
        "---\n",
        "###Características del Algoritmo:\n",
        "\n",
        "**BucketSort** tiene un par de propiedades destacables que definen su utilidad para datos estadísticos de gran tamaño, estas características son:\n",
        "\n",
        "- El algoritmo está destinado para trabajar con datos númericos.\n",
        "- Puede ser implementado para números enteros y también para decimales, más no puede trabajar con negativos.\n",
        "- Los intervalos de división para los \"*Buckets*\" son iguales, es decir, el arreglo se subdivide en partes equitativas, para luego se unido devuelta.\n",
        "- Se pueden usar listas enlazadas para trabajar este algoritmo con datos más complejos.\n",
        "\n",
        "---\n",
        "###Pasos a Seguir:\n",
        "\n",
        "Si bien ya se explicó el funcionamiento del algoritmo de ordenamiento, es de suma importancia para su comprendimiento que se redacten detalladamente los pasos que sigue aquel. Por ende, es que a continuación se enumerarán los procedimientos que realiza **BucketSort**:\n",
        "\n",
        "1. Crear un arreglo \"*Buckets*\": El algoritmo debe crear un arreglo auxiliar que sea capaz de guardar todas las futuras sub-secuencias a generar. El tamaño del arreglo puede estar pre-establecido, como puede ser dinámico en función del tamaño del arreglo, sin embargo, en este caso se utilizará una variable $k = 10$ para definir como rango de intervalos los dígitos del 0 al 9. \n",
        "\n",
        "2. Insertar los datos del arreglo en \"*Buckets*\": Hecho lo anterior, ahora el algoritmo debe tomar cada elemento de un arreglo $A$ y realizar algún cálculo matemático que logre determinar en que sub-arreglo (\"*Bucket*\") será insertado el elemento. Para la implentación de este informe, se utilizó una fórmula que permite dejar a todo número en el intervalo de $[0, 9]$ propuesto por $k$, y considerará de forma general que $Buckets[a] = [a_1..a_2] < Buckets[a+1] = [a_2..a_3]$.\n",
        "\n",
        "3. Ordenar cada \"*Bucket*\" por separado: Teniendo en cuenta que los sub-arreglos ya están formados, ahora le tocará al algoritmo auxiliar de ordenamiento trabajar con cada uno de los \"*Buckets*\". En este informe, se utilizará InsertionSort como algorimo auxiliar, por lo que la función de este será la de dejar completamente ordenadas las sub-secuencias.\n",
        "\n",
        "4. Juntar todos los \"*Buckets*\": Ahora que están todos los sub-arreglos ordenados por separado. Se deben insertar todos los elementos un \"*Bucket*\" a la vez. Debido a que en el paso 2, la fórmula dejó a los \"*Buckets*\" ordenados del conjunto menor al mayor, sólo se necesita recorrer el arreglo de \"*Buckets*\" e ir soltando cada uno de los elementos encontrados en el sub-arreglo $Buckets[i]$ en el arreglo A, esto hasta sobreescribir por completo el arreglo original, el cual se retornará ordenado.\n",
        "\n",
        "---\n",
        "###Ejemplo de Ejecución:\n",
        "\n",
        "Para explicar de mejor forma como opera este algoritmo, a continuación se mostrará un ejemplo de ejecución utilizando un arreglo $A$ de 5 elementos decimales aleatorios entre el 0 y el 9.\n",
        "\n",
        "- Nota: Se utilizará como rango *k* la cantidad de dígitos, es decir, $k=10$.\n",
        "\n",
        "1. **BucketSort** recibe un arreglo $A$ de $n = 5$ elementos desordenados.\n",
        "\n",
        "        A = [5.5, 9.3, 7.7, 2.4, 7.2]     ---    n = 5 elementos\n",
        "\n",
        "2. El algoritmo crea un arreglo de \"*Buckets*\". Tendrá $n$ celdas vacías.\n",
        "\n",
        "        A = [5.5, 9.3, 7.7, 2.4, 7.2]     ---    n = 5 elementos\n",
        "        \n",
        "        -------------------- Posiciones del 0 al 9. ---------------\n",
        "        Buckets = [ <> - <> - <> - <> - <> - <> - <> - <> - <> - <>]\n",
        "\n",
        "3. El algoritmo recorre el arregla $A$ para insertar cada elemento en su respectivo sub-arreglo.\n",
        "\n",
        "        Iteraciones:\n",
        "        ----> Primera iteración: 5.5\n",
        "        Buckets = [ <> - <> - <> - <> - <> - <> - <> - <> - <> - <>]\n",
        "        5.5 ---> int(5.5) ---> 5 ---> Insertar en posición 5.\n",
        "        Buckets = [ <> - <> - <> - <> - <> - <5.5> - <> - <> - <> - <>]\n",
        "        ----> Segunda iteración: 9.3\n",
        "        Buckets = [ <> - <> - <> - <> - <> - <5.5> - <> - <> - <> - <>]\n",
        "        9.3 ---> int(9.3) ---> 9 ---> Insertar en posición 9.\n",
        "        Buckets = [ <> - <> - <> - <> - <> - <5.5> - <> - <> - <> - <9.3>]\n",
        "        ----> Tercera iteración: 7.7\n",
        "        Buckets = [ <> - <> - <> - <> - <> - <5.5> - <> - <> - <> - <9.3>]\n",
        "        7.7 ---> int(7.7) ---> 7 ---> Insertar en posición 7.\n",
        "        Buckets = [ <> - <> - <> - <> - <> - <5.5> - <> - <7.7> - <> - <9.3>]\n",
        "        ----> Cuarta iteración: 2.4\n",
        "        Buckets = [ <> - <> - <> - <> - <> - <5.5> - <> - <7.7> - <> - <9.3>]\n",
        "        2.4 ---> int(2.4) ---> 2 ---> Insertar en posición 2.\n",
        "        Buckets = [ <> - <> - <2.4> - <> - <> - <5.5> - <> - <7.7> - <> - <9.3>]\n",
        "        ----> Última iteración 7.2\n",
        "        Buckets = [ <> - <> - <2.4> - <> - <> - <5.5> - <> - <7.7> - <> - <9.3>]\n",
        "        7.2 ---> int(7.2) ---> 7 ---> Insertar en posición 7.\n",
        "        Buckets = [ <> - <> - <2.4> - <> - <> - <5.5> - <> - <7.7, 7.2> - <> - <9.3>]\n",
        "\n",
        "4. Se ordena a otro algoritmo de ordenamiento (comparativo) que ordene los sub-arreglos donde hallan elementos.\n",
        "\n",
        "        InsertionSort opera en:\n",
        "\n",
        "        Iteraciones:\n",
        "                   --   --   -----   --   --   -----   --   ----------   --   ----- \n",
        "                   NO   NO    YES    NO   NO    YES    NO       YES      NO    YES\n",
        "        Buckets = [ <> - <> - <2.4> - <> - <> - <5.5> - <> - <7.7, 7.2> - <> - <9.3>]\n",
        "\n",
        "        InserionSort ordena Buckets[2] --> [<2.4>]: \n",
        "        - Resultado: Buckets[2] = [<2.4>]\n",
        "        InserionSort ordena Buckets[5] --> [<5.5>]: \n",
        "        - Resultado: Buckets[5] = [<5.5>]\n",
        "        InserionSort ordena Bucket[7] --> [<7.7, 7.2>]: \n",
        "        - Resultado: Buckets[7] = [<7.2, 7.7>]\n",
        "        InserionSort ordena Bucket[9] --> [<9.3>]: \n",
        "        - Resultado: Buckets[9] = [<9.3>]\n",
        "\n",
        "        Buckets = [ <> - <> - <2.4> - <> - <> - <5.5> - <> - <7.2, 7.7> - <> - <9.3>]\n",
        "\n",
        "5. Se \"vacían\" uno a uno los \"*Buckets*\" en el arreglo $A$:\n",
        "\n",
        "        Bucket = [ <> - <> - <2.4> - <> - <> - <5.5> - <> - <7.2, 7.7> - <> - <9.3>]\n",
        "        Bucket (Ignorando los sub-arreglos vacíos): \n",
        "\n",
        "        [<2.4> - <5.5> - <7.2, 7.7> - <9.3>]\n",
        "           2       5          7         9        <--- Posiciones\n",
        "\n",
        "        Iteraciones:\n",
        "        0: \n",
        "        A = [5.5, 9.3, 7.7, 2.4, 7.2]\n",
        "        1: \n",
        "        A = [5.5, 9.3, 7.7, 2.4, 7.2]\n",
        "        2: \n",
        "        Se inserta Buckets[2][0] = [<2.4>] en A[0].\n",
        "        A = [2.4, 9.3, 7.7, 2.4, 7.2]\n",
        "        3:\n",
        "        A = [2.4, 9.3, 7.7, 2.4, 7.2]\n",
        "        4:\n",
        "        A = [2.4, 9.3, 7.7, 2.4, 7.2]\n",
        "        5:\n",
        "        Se inserta Buckets[5][0] = [<5.5>] en A[1].\n",
        "        A = [2.4, 5.5, 7.7, 2.4, 7.2]\n",
        "        6:\n",
        "        A = [2.4, 5.5, 7.7, 2.4, 7.2]\n",
        "        7:\n",
        "        Se inserta Buckets[7][0] = [<7.2>] en A[2].\n",
        "        Se inserta Buckets[7][1] = [<7.7>] en A[3].\n",
        "        A = [2.4, 5.5, 7.2, 7.7, 7.2]\n",
        "        8:\n",
        "        A = [2.4, 5.5, 7.2, 7.7, 7.2]\n",
        "        9:\n",
        "        Se inserta Buckets[9][0] = [<9.3>] en A[4].\n",
        "        A = [2.4, 5.5, 7.2, 7.7, 9.3]\n",
        "\n",
        "        Fin de Iteración.\n",
        "\n",
        "Siguiendo este proceso, se obtiene un arreglo $A$ de $n$ elementos ordenado utilizando **BucketSort**.\n",
        "\n",
        "\n",
        "        \n",
        "        \n",
        "\n",
        "\n",
        "\n",
        "\n",
        "\n"
      ],
      "metadata": {
        "id": "sSqBkQejbAvw"
      }
    },
    {
      "cell_type": "markdown",
      "source": [
        "##3. Implementación del Algoritmo\n",
        "\n",
        "Como se recalcó en los puntos anteriores, el algoritmo puede ser implementado tanto para números enteros como decimales, para esto, se deben adaptar los valores de modo que calcen con los límites del arreglo \"*Buckets*\". En la siguiente implementación, se utilizarán 10 sub-arreglos ($k=10$) para almacenar los datos de un arreglo $A$.\n",
        "\n",
        "- Nota: Los datos del arreglo están contenidos en el intervalo [0,1], por lo que cada \"*Bucket*\" tendrá un rango de magnitud $0.1$."
      ],
      "metadata": {
        "id": "tmHRhA02WdQZ"
      }
    },
    {
      "cell_type": "code",
      "execution_count": 135,
      "metadata": {
        "id": "23pC8O7TWpNI"
      },
      "outputs": [],
      "source": [
        "#Implementado para números decimales\n",
        "def bucketSort (A): \n",
        "    # Crear Arreglo de \"Buckets\".\n",
        "    Buckets = []\n",
        "\n",
        "    #Definir cantidad (rango) de intervalos.\n",
        "    k = 10\n",
        "\n",
        "    # Llenar el arreglo de \"Buckets\" vacíos.\n",
        "    for i in range (0,k):\n",
        "        Buckets.append([])\n",
        "\n",
        "    # Insertar los elementos en su \"Bucket\" correspondiente.\n",
        "    for j in range (0,len(A)):\n",
        "        #Casteo para convertir decimal a entero (índice).\n",
        "        BucketIndex = int(10 * A[j]) % 10\n",
        "        Buckets[BucketIndex].append(A[j])\n",
        "    \n",
        "    # Ordenar los elementos de cada \"Bucket\" con InsertionSort.\n",
        "    for i in range(len(Buckets)):\n",
        "        Buckets[i] = insertionSort(Buckets[i])\n",
        "\n",
        "    # Declarar contador de posición.\n",
        "    cont = 0\n",
        "    # Depositar los elementos ordenados de cada Bucket.\n",
        "    for i in range(len(Buckets)):\n",
        "        for j in range(len(Buckets[i])):\n",
        "            A[cont] = Buckets[i][j]\n",
        "            cont += 1\n",
        "    \n",
        "    #Retornar el arreglo ordenado.\n",
        "    return A"
      ]
    },
    {
      "cell_type": "markdown",
      "source": [
        "Como se indica en la implementación, se utilizará a InsertionSort como algoritmo comparativo de apoyo, se muestra a continuación la implementación de InsertionSort:"
      ],
      "metadata": {
        "id": "SzMuCumMaAD0"
      }
    },
    {
      "cell_type": "code",
      "source": [
        "def insertionSort (A):\n",
        "    for i in range (1, len(A)):\n",
        "        #Definir Dato Clave o Pivote.\n",
        "        key = A[i]\n",
        "        #Ciclo para Encontrar la Posición del Dato Clave.\n",
        "        for k in range (i-1, -1, -1):\n",
        "            #Condición que Verifica si el número Clave está en su posición correcta.\n",
        "            if A[k] < key: break\n",
        "            #Intercambiar de posición los números comparados.S\n",
        "            A[k+1] = A[k]\n",
        "            A[k] = key\n",
        "    return A #Devolver el Arreglo Ordenado y el Número de Comparaciones realizadas."
      ],
      "metadata": {
        "id": "V6ORkrIiX3UG"
      },
      "execution_count": 136,
      "outputs": []
    },
    {
      "cell_type": "markdown",
      "source": [
        "---\n",
        "###Ejemplo de ejecución con código:\n",
        "El siguiente trozo de código muestra un ejemplo de ordenamiento con BucketSort:"
      ],
      "metadata": {
        "id": "MO9AAC90a6SD"
      }
    },
    {
      "cell_type": "code",
      "source": [
        "\"\"\"\"\"\"\"\"\"\"\"\"\"\"\"\"\"\"\"\"\"\"\"\"\"\"\"\"\"\"\"\"\"\"\"\"\"\"\"\"\"\"\"\"\"\"\"\"\"\"\"\"\"\"\n",
        "#Función que imprime la lista de datos.\n",
        "def arrayPrinter(A):\n",
        "    print(A)\n",
        "    print(\"=======================================\")\n",
        "\n",
        "\"\"\"\"\"\"\"\"\"\"\"\"\"\"\"\"\"\"\"\"\"\"\"\"\"\"\"\"\"\"\"\"\"\"\"\"\"\"\"\"\"\"\"\"\"\"\"\"\"\"\"\"\"\"\n",
        "#Ejemplo:\n",
        "print(\"=======================================\")\n",
        "data = [0.7, 0.3, 0.6, 0.45, 0.75, 0.1, 0.4, 0.35]\n",
        "print(\"Arreglo de Entrada:\")\n",
        "arrayPrinter(data)\n",
        "bucketSort(data)\n",
        "print(\"=======================================\")\n",
        "print(\"Arreglo de Salida:\")\n",
        "arrayPrinter(data)"
      ],
      "metadata": {
        "colab": {
          "base_uri": "https://localhost:8080/"
        },
        "id": "MDUzOVqUc89J",
        "outputId": "b2141501-0613-4496-807b-7abc7b6f8c53"
      },
      "execution_count": 137,
      "outputs": [
        {
          "output_type": "stream",
          "name": "stdout",
          "text": [
            "=======================================\n",
            "Arreglo de Entrada:\n",
            "[0.7, 0.3, 0.6, 0.45, 0.75, 0.1, 0.4, 0.35]\n",
            "=======================================\n",
            "=======================================\n",
            "Arreglo de Salida:\n",
            "[0.1, 0.3, 0.35, 0.4, 0.45, 0.6, 0.7, 0.75]\n",
            "=======================================\n"
          ]
        }
      ]
    },
    {
      "cell_type": "markdown",
      "source": [
        "---\n",
        "###Implementación con `Verbose = True`:\n",
        "\n",
        "La opción verbose = True mostrará con mayor detalle lo que ocurre en el algoritmo:"
      ],
      "metadata": {
        "id": "6HOaAkevaRNk"
      }
    },
    {
      "cell_type": "code",
      "source": [
        "from termcolor import cprint\n",
        "#Implementado para números decimales\n",
        "def bucketSort (A, verbose): \n",
        "    # Crear Arreglo de \"Buckets\".\n",
        "    Buckets = []\n",
        "\n",
        "    #Definir cantidad (rango) de intervalos.\n",
        "    k = 10\n",
        "   \n",
        "    # Llenar el arreglo de \"Buckets\" vacíos.\n",
        "    for i in range (0,k):\n",
        "      Buckets.append([])\n",
        "\n",
        "    #Opción Verbose:\n",
        "    if verbose == True:\n",
        "      cprint(\"Generar arreglo auxiliar de \\\"Buckets\\\"...\", \"white\", attrs=['bold'])\n",
        "      cprint(f\"Buckets: {Buckets}\", \"blue\")\n",
        "      print(\"-------------------------------------------------------\")\n",
        "      cprint(\"Insertar elementos en su \\\"Bucket\\\" correspondiente...\", \"white\", attrs=['bold'])\n",
        "    \n",
        "    # Insertar los elementos en su \"Bucket\" correspondiente.\n",
        "    for j in range (0,len(A)):\n",
        "      #Casteo para convertir decimal a entero (índice).\n",
        "      BucketIndex = int(10 * A[j]) % 10\n",
        "      Buckets[BucketIndex].append(A[j])\n",
        "\n",
        "      #Opción Verbose.\n",
        "      if verbose == True:\n",
        "        print(f\"A[{j}] = {str(A[j]).rjust(4)} ---> pertencece al\", end = \" \")\n",
        "        cprint(f\"Buckets[{BucketIndex}]\", \"blue\")\n",
        "    \n",
        "    #Opción Verbose.\n",
        "    if verbose == True:\n",
        "      print(\"-------------------------------------------------------\")\n",
        "      cprint(\"Ordenar los \\\"Buckets\\\" que contengan elementos...\", \"white\", attrs=['bold'])\n",
        "\n",
        "    # Ordenar los elementos de cada \"Bucket\" con InsertionSort.\n",
        "    for i in range(len(Buckets)):\n",
        "      #Opción Verbose:\n",
        "      if verbose == True:\n",
        "        # print(colored(f\"-----> Buckets[{i}] = {Buckets[i]}\", \"yellow\"))\n",
        "        if len(Buckets[i]) == 0:\n",
        "          print(f\"-----> Buckets[{i}] = {Buckets[i]}\")\n",
        "          cprint(f\"¡Buckets[{i}] no tiene elementos!\", \"red\")\n",
        "        else:\n",
        "          cprint(f\"-----> Buckets[{i}] = {Buckets[i]}\")\n",
        "          cprint(f\"Llamada a InsertionSort...\", \"yellow\", end=\" \")\n",
        "          cprint(f\"---> Resultado: {insertionSort(Buckets[i])}\" , \"green\", attrs=['bold'])\n",
        "      Buckets[i] = insertionSort(Buckets[i])\n",
        "\n",
        "    #Opción Verbose.\n",
        "    if verbose == True:\n",
        "      print(\"-------------------------------------------------------\")\n",
        "      cprint(\"Depositar los \\\"Buckets\\\" ordenados en orden...\", \"white\", attrs=['bold'])\n",
        "\n",
        "    # Declarar contador de posición.\n",
        "    cont = 0\n",
        "    # Depositar los elementos ordenados de cada Bucket.\n",
        "    for i in range(len(Buckets)):\n",
        "      #Opción Verbose.\n",
        "      if verbose == True and len(Buckets[i]) != 0:\n",
        "        cprint(f\"-----> Buckets[{i}] = {Buckets[i]}\", \"blue\")\n",
        "      for j in range(len(Buckets[i])):\n",
        "        A[cont] = Buckets[i][j]\n",
        "        #Opción Verbose.\n",
        "        if verbose == True:\n",
        "          print(f\"Se inserta Buckets[{i}][{j}] = {str(Buckets[i][j]).rjust(4)} en A[{cont}]...\")\n",
        "          if cont == 0:\n",
        "            cprint(f\"Arreglo: [{str(A[0:cont])[1:-1]}\", \"green\", end=\"\")\n",
        "          else:\n",
        "            cprint(f\"Arreglo: [{str(A[0:cont])[1:-1]},\", \"green\", end=\" \")\n",
        "          cprint(f\"{str(A[cont])}\", \"green\", attrs=['bold'], end=\"\")\n",
        "          if cont == len(A)-1:\n",
        "            cprint(f\"{str(A[cont+1:])[1:-1]}]\", \"green\")  \n",
        "          else:\n",
        "            cprint(f\", {str(A[cont+1:])[1:-1]}]\", \"green\")\n",
        "        cont += 1\n",
        "    \n",
        "    #Retornar el arreglo ordenado.\n",
        "    return A\n",
        "\n",
        "\"\"\"\"\"\"\"\"\"\"\"\"\"\"\"\"\"\"\"\"\"\"\"\"\"\"\"\"\"\"\"\"\"\"\"\"\"\"\"\"\"\"\"\"\"\"\"\"\"\"\"\"\"\"\n",
        "#Ejemplo:\n",
        "print(\"=======================================\")\n",
        "data = [0.7, 0.35, 0.6, 0.45, 0.75, 0.1, 0.4, 0.3]\n",
        "print(\"Arreglo de Entrada:\")\n",
        "arrayPrinter(data)\n",
        "bucketSort(data, verbose = True)\n",
        "print(\"=======================================\")\n",
        "print(\"Arreglo de Salida:\")\n",
        "arrayPrinter(data)"
      ],
      "metadata": {
        "colab": {
          "base_uri": "https://localhost:8080/"
        },
        "id": "BzsCmMN0awFI",
        "outputId": "028a9360-9082-4650-f016-4223b4db3f87"
      },
      "execution_count": 158,
      "outputs": [
        {
          "output_type": "stream",
          "name": "stdout",
          "text": [
            "=======================================\n",
            "Arreglo de Entrada:\n",
            "[0.7, 0.35, 0.6, 0.45, 0.75, 0.1, 0.4, 0.3]\n",
            "=======================================\n",
            "\u001b[1m\u001b[37mGenerar arreglo auxiliar de \"Buckets\"...\u001b[0m\n",
            "\u001b[34mBuckets: [[], [], [], [], [], [], [], [], [], []]\u001b[0m\n",
            "-------------------------------------------------------\n",
            "\u001b[1m\u001b[37mInsertar elementos en su \"Bucket\" correspondiente...\u001b[0m\n",
            "A[0] =  0.7 ---> pertencece al \u001b[34mBuckets[7]\u001b[0m\n",
            "A[1] = 0.35 ---> pertencece al \u001b[34mBuckets[3]\u001b[0m\n",
            "A[2] =  0.6 ---> pertencece al \u001b[34mBuckets[6]\u001b[0m\n",
            "A[3] = 0.45 ---> pertencece al \u001b[34mBuckets[4]\u001b[0m\n",
            "A[4] = 0.75 ---> pertencece al \u001b[34mBuckets[7]\u001b[0m\n",
            "A[5] =  0.1 ---> pertencece al \u001b[34mBuckets[1]\u001b[0m\n",
            "A[6] =  0.4 ---> pertencece al \u001b[34mBuckets[4]\u001b[0m\n",
            "A[7] =  0.3 ---> pertencece al \u001b[34mBuckets[3]\u001b[0m\n",
            "-------------------------------------------------------\n",
            "\u001b[1m\u001b[37mOrdenar los \"Buckets\" que contengan elementos...\u001b[0m\n",
            "-----> Buckets[0] = []\n",
            "\u001b[31m¡Buckets[0] no tiene elementos!\u001b[0m\n",
            "-----> Buckets[1] = [0.1]\u001b[0m\n",
            "\u001b[33mLlamada a InsertionSort...\u001b[0m \u001b[1m\u001b[32m---> Resultado: [0.1]\u001b[0m\n",
            "-----> Buckets[2] = []\n",
            "\u001b[31m¡Buckets[2] no tiene elementos!\u001b[0m\n",
            "-----> Buckets[3] = [0.35, 0.3]\u001b[0m\n",
            "\u001b[33mLlamada a InsertionSort...\u001b[0m \u001b[1m\u001b[32m---> Resultado: [0.3, 0.35]\u001b[0m\n",
            "-----> Buckets[4] = [0.45, 0.4]\u001b[0m\n",
            "\u001b[33mLlamada a InsertionSort...\u001b[0m \u001b[1m\u001b[32m---> Resultado: [0.4, 0.45]\u001b[0m\n",
            "-----> Buckets[5] = []\n",
            "\u001b[31m¡Buckets[5] no tiene elementos!\u001b[0m\n",
            "-----> Buckets[6] = [0.6]\u001b[0m\n",
            "\u001b[33mLlamada a InsertionSort...\u001b[0m \u001b[1m\u001b[32m---> Resultado: [0.6]\u001b[0m\n",
            "-----> Buckets[7] = [0.7, 0.75]\u001b[0m\n",
            "\u001b[33mLlamada a InsertionSort...\u001b[0m \u001b[1m\u001b[32m---> Resultado: [0.7, 0.75]\u001b[0m\n",
            "-----> Buckets[8] = []\n",
            "\u001b[31m¡Buckets[8] no tiene elementos!\u001b[0m\n",
            "-----> Buckets[9] = []\n",
            "\u001b[31m¡Buckets[9] no tiene elementos!\u001b[0m\n",
            "-------------------------------------------------------\n",
            "\u001b[1m\u001b[37mDepositar los \"Buckets\" ordenados en orden...\u001b[0m\n",
            "\u001b[34m-----> Buckets[1] = [0.1]\u001b[0m\n",
            "Se inserta Buckets[1][0] =  0.1 en A[0]...\n",
            "\u001b[32mArreglo: [\u001b[0m\u001b[1m\u001b[32m0.1\u001b[0m\u001b[32m, 0.35, 0.6, 0.45, 0.75, 0.1, 0.4, 0.3]\u001b[0m\n",
            "\u001b[34m-----> Buckets[3] = [0.3, 0.35]\u001b[0m\n",
            "Se inserta Buckets[3][0] =  0.3 en A[1]...\n",
            "\u001b[32mArreglo: [0.1,\u001b[0m \u001b[1m\u001b[32m0.3\u001b[0m\u001b[32m, 0.6, 0.45, 0.75, 0.1, 0.4, 0.3]\u001b[0m\n",
            "Se inserta Buckets[3][1] = 0.35 en A[2]...\n",
            "\u001b[32mArreglo: [0.1, 0.3,\u001b[0m \u001b[1m\u001b[32m0.35\u001b[0m\u001b[32m, 0.45, 0.75, 0.1, 0.4, 0.3]\u001b[0m\n",
            "\u001b[34m-----> Buckets[4] = [0.4, 0.45]\u001b[0m\n",
            "Se inserta Buckets[4][0] =  0.4 en A[3]...\n",
            "\u001b[32mArreglo: [0.1, 0.3, 0.35,\u001b[0m \u001b[1m\u001b[32m0.4\u001b[0m\u001b[32m, 0.75, 0.1, 0.4, 0.3]\u001b[0m\n",
            "Se inserta Buckets[4][1] = 0.45 en A[4]...\n",
            "\u001b[32mArreglo: [0.1, 0.3, 0.35, 0.4,\u001b[0m \u001b[1m\u001b[32m0.45\u001b[0m\u001b[32m, 0.1, 0.4, 0.3]\u001b[0m\n",
            "\u001b[34m-----> Buckets[6] = [0.6]\u001b[0m\n",
            "Se inserta Buckets[6][0] =  0.6 en A[5]...\n",
            "\u001b[32mArreglo: [0.1, 0.3, 0.35, 0.4, 0.45,\u001b[0m \u001b[1m\u001b[32m0.6\u001b[0m\u001b[32m, 0.4, 0.3]\u001b[0m\n",
            "\u001b[34m-----> Buckets[7] = [0.7, 0.75]\u001b[0m\n",
            "Se inserta Buckets[7][0] =  0.7 en A[6]...\n",
            "\u001b[32mArreglo: [0.1, 0.3, 0.35, 0.4, 0.45, 0.6,\u001b[0m \u001b[1m\u001b[32m0.7\u001b[0m\u001b[32m, 0.3]\u001b[0m\n",
            "Se inserta Buckets[7][1] = 0.75 en A[7]...\n",
            "\u001b[32mArreglo: [0.1, 0.3, 0.35, 0.4, 0.45, 0.6, 0.7,\u001b[0m \u001b[1m\u001b[32m0.75\u001b[0m\u001b[32m]\u001b[0m\n",
            "=======================================\n",
            "Arreglo de Salida:\n",
            "[0.1, 0.3, 0.35, 0.4, 0.45, 0.6, 0.7, 0.75]\n",
            "=======================================\n"
          ]
        }
      ]
    },
    {
      "cell_type": "code",
      "source": [],
      "metadata": {
        "id": "Cgj-V7NgBQdp"
      },
      "execution_count": 138,
      "outputs": []
    },
    {
      "cell_type": "markdown",
      "source": [
        "##4. Correctitud de BucketSort:\n",
        "\n",
        "BucketSort es un algoritmo de ordenamiento que sólo necesita de un algoritmo de apoyo (que sea comparativo) para funcionar. Para analizar si el algoritmo funciona de manera correcta, resulta necesario asumir que (en este caso) InsertionSort funcionará de forma correcta, es decir, que ordenará los $n$ elementos de un $Buckets[i]$ de modo que $[b_1 \\leq b_2 \\leq b_3... \\leq b_n]]$, con $b$ siendo un elemento del sub-arreglo.\n",
        "\n",
        "---\n",
        "\n",
        "###Inducción Matemática:\n",
        "Para demostrar la correctitud de BucketSort se utilizará el método de inducción matemática, para el cual, se tiene preparado un teorema de correctitud que debe cumplirse en todos los casos posibles. El teorema de correctitud es el siguiente:\n",
        "\n",
        "- **Teorema**: El algoritmo BucketSort siempre genera un arreglo: $[a_1',a_2',...,a_n']$, el cual estará formado con los mismos elementos del arreglo de entrada, oero ordenados de menor a mayor, es decir, $a_1'\\leq a_2' \\leq... \\leq a_n'$.\n",
        "\n",
        "Dado el teorema a comprobar, puede comenzar el análisis:\n",
        "\n",
        "- A considerar en la ejecución: \n",
        "  - Se tomará un arreglo inicial $A$ de $n$ elementos numéricos y desordenados.\n",
        "  - Un elemento del arreglo \"*Buckets*\", que puede llamarse $B$, contendrá a los datos cuyo valor estén dentro de un determinado rango. Además, cada $Buckets[i] = B[i]$ contiene datos que son menores a los del \"*Bucket*\" ubicado en la siguiente posición. Por tanto, los elementos del Bucket $B[1] < B[2] <... B[n-1] < B[n]$.\n",
        "\n",
        "- **Caso Base $P(1)$**: Al existir un sólo elemento en el arreglo $A$, sólo se crea y \"vacía\" un \"*bucket*\" en él. Cuando hay un solo elemento en el \"$B[i]$\", significa que no se deben ordenar elementos, por lo cual, este Bucket está ordenado.\n",
        "\n",
        "- **Paso Inductivo $P(m)$, con $m < n$**: Cuando hay $m$ elementos en el arreglo $A$, estos pueden ser ordenados en uno o varios \"*Buckets*\". En el caso de que se ordenen de manera uniforme (1 elemento en cada \"*bucket*\"), se sigue lo instruido en el caso base. En cambio, si hay más de 1 elemento en cada \"*Bucket*\", y se asume a InsertionSort correcto podemos afirmar que este algoritmo ordenará con éxito el sub-arreglo encontrado en $B[i]$. A raíz de lo anterior, $B[i]$ contendrá los mismos elementos que le fueron atribuidos en un inicio, pero ordenados de menor a mayor, cumpliendo con el teorema.\n",
        "\n",
        "A través de este análisis, se confirma el teorema. Por lo tanto, el algoritmo **BucketSort** es correcto.\n",
        "\n",
        "\n",
        "\n"
      ],
      "metadata": {
        "id": "fQkvBDmSp-N8"
      }
    },
    {
      "cell_type": "markdown",
      "source": [
        "##5. Tiempo de Ejecución de BucketSort: \n",
        "\n",
        "Para obtener la complejidad temporal del algoritmo resulta necesario analizar de forma detallada cada uno de los pasos que sigue la solución. Por esta razón, se mostrará a continuación el análisis realizado a cada parte del algoritmo y su conclusión final:\n",
        "\n",
        "---\n",
        "### Paso 1 ---> Arreglo de \"*Buckets*\":\n",
        "\n",
        "Durante este proceso, se crea un arreglo vacío para almacenar una cantidad $k$ de futuros sub-arreglos. La cantidad k en la implementación mostrada anteriormente es de valor $k=10$. A continuación se muestra la parte del código donde se programó este paso:\n",
        "```\n",
        "def bucketSort (A): \n",
        "    # Crear Arreglo de \"Buckets\".\n",
        "    Buckets = []\n",
        "\n",
        "    #Definir cantidad (rango) de intervalos.\n",
        "    k = 10\n",
        "\n",
        "    # Llenar el arreglo de \"Buckets\" vacíos.\n",
        "    for i in range (0,k):\n",
        "        Buckets.append([])\n",
        "    (...)\n",
        "    return A\n",
        "```\n",
        "\n",
        "Para construir el código se utilizó un ciclo for, el cual al depender de k, necesitaba realizar siempre $k$ iteraciones. A causa de lo anterior, se puede definir la complejidad temporal de este paso como **$θ(k)$**.\n",
        "\n",
        "---\n",
        "### Paso 2 ---> Inserción de elementos:\n",
        "\n",
        "Para este paso, el algoritmo debe realizar un procedimiento matemático a cada elemento del arreglo A, de modo que pueda clasificarlo en un intervalo definido e insertar aquel elemento en el sub-arreglo correspondiente. El código que se implementa en la sección anterior para esta parte es el siguiente:\n",
        "```\n",
        "def bucketSort (A):\n",
        "    (...)\n",
        "\n",
        "    # Insertar los elementos en su \"Bucket\" correspondiente.\n",
        "    for j in range (0,len(A)):\n",
        "        #Casteo para convertir decimal a entero (índice).\n",
        "        BucketIndex = int(10 * A[j]) % 10\n",
        "        Buckets[BucketIndex].append(A[j])\n",
        "    \n",
        "    (...)\n",
        "    return A\n",
        "```\n",
        "Para construir el código se utilizó un ciclo for, el cual depende de la cantidad de elementos en el arreglo $A$, puesto a que debe recorrer cada elemento para insertarlo. A causa de lo anterior, se puede inferir que este paso realiza $n$ iteraciones, y a su vez, que su complejidad temporal es de **$θ(n)$**.\n",
        "\n",
        "---\n",
        "### Paso 3 ---> Ordenar cada \"*Bucket*\" usando InsertionSort:\n",
        "\n",
        "Este paso es el más complejo, ya que se deben considerar y calcular algunas variables importantes. Primero que nada, InsertionSort es un algoritmo de apoyo que se encarga de ordenar cada sub-arreglo, pero al ser este comparativo, dependerá de la cantidad y del orden (o desorden) que tengan los elementos dentro del sub-arreglo las comparaciones finales que haga. Por eso, resulta necesario calcular o estimar el mejor, peor y tiempo promedio de ejecución de InsertionSort al trabajar con un \"*Bucket*\". El procedimiento para obtener cada uno se detalla más abajo.\n",
        "\n",
        "- **Mejor Caso**: Para llegar a este caso, es necesario que los $n$ elementos de distribuyan en los \"*Buckets*\" de tal forma que hay un máximo de 1 elemento por sub-arreglo. Por ende, es necesario que $n \\leq k$, con $k$ representando a la cantidad de \"*Buckets*\". Cuando se cumple este caso, InsertionSort opera de forma constante θ(1), ya que no tiene necesidad de comparar, lo que reduce la complejidad de este paso a la cantidad de veces que se invoca al algoritmo de apoyo, $Ω(k)$.\n",
        "\n",
        "- **Peor Caso**: Para llegar a este caso, se necesita que los $n$ elementos del arreglo original estén concentrados en su totalidad en un sólo intervalo de $k$, de modo que queden todos en un sólo \"*Bucket*\". Al sólo tener un \"*Bucket*\" con $n$ elementos, InsertionSort tendrá operar de manera regular ordenando todos los datos, por lo que se podría decir que sería InsertionSort el algoritmo que se encarga de realizar el ordenamiento. Tomando en cuenta el tiempo de ejecución del algoritmo de apoyo, este paso tendría una complejidad temporal de **$O(n^2)$**. \n",
        "\n",
        "- **Caso Promedio**: En función de sacar una aproximación correcta para el caso promedio de este algoritmo, resulta necesario realizar los siguientes cálculos explícitos:\n",
        "\n",
        "  - **Definición del Valor Esperado $E[T(n)]$**: Se debe expresar el valor esperado que tomará la complejidad de InsertionSort en función de lo que normalmente tardaría el algoritmo en ordenar una serie de números cualquiera:\n",
        "\n",
        "    - $E[T(n)] = O(E[n^2])$, con $n$ siendo la cantidad de elementos a ordenar.\n",
        "\n",
        "  - Sin embargo, debe considerarse como una variable distinta el número de elementos que InsertionSort tendrá que ordenar, para esto se establece el valor $n_i$, que determina la cantidad de elementos que hay en cada \"*Bucket*\" que organiza InsertionSort. La fórmula entonces sería la suma de todos los valores esperados para $O(n_i^2)$:\n",
        "\n",
        "    - $E[T(n)] = \\displaystyle\\sum_{j = 0}^{n-1} O(E[n_i^2])$\n",
        "\n",
        "  - **Expresar el cálculo del número de elementos ($n_i$)**: El paso anterior logra reducir el cálculo del valor esperado a sólo identificar el tiempo de ejecución según el número de elementos. No obstante, es posible desarrollar aún más la fórmula con la ayuda de las matemáticas. Para esto, primero se necesita expresar de otra forma el valor $n_i$, describiéndolo como una sumatoria que explique la posibilidad del evento en el que un elemento $A[j]$ del arreglo caiga en el bucket $i$: \n",
        "\n",
        "    - $n_i = \\displaystyle\\sum_{j = 0}^{n-1}$ $X$<sub>$ij$</sub>\n",
        "\n",
        "  - Luego, se desarrolla la expresión sacada anteriormente para definir la complejidad de InsertionSort:\n",
        "\n",
        "    - $E[n_i^2] = E[(\\displaystyle\\sum_{j = 0}^{n-1}$ $X$<sub>$ij$</sub>)$^2]$\n",
        "\n",
        "  - Es posible definir un evento $X$<sub>$im$</sub> de similares características que ayude a expresar de mejor forma el cálculo, con ello en cuenta, prosigue el desarrollo de la siguiente forma:\n",
        "\n",
        "    - $E[n_i^2] = E[\\displaystyle\\sum_{j = 0}^{n-1} \\displaystyle\\sum_{m = 0}^{n-1}$ $X$<sub>$ij$</sub> $X$<sub>$im$</sub>$]$ \n",
        "    - $E[n_i^2] = E[\\displaystyle\\sum_{j = 0}^{n-1}$ $X^2$<sub>$ij$</sub>$ $   +$ \\displaystyle\\sum_{0\\leq j\\leq n}^{} \\displaystyle\\sum_{0\\leq m\\leq n}^{}$ $X$<sub>$ij$</sub> $X$<sub>$im$</sub>$]$ ; con $m\\neq j$\n",
        "    - $E[n_i^2] = \\displaystyle\\sum_{j = 0}^{n-1}$ $E[X^2$<sub>$ij$</sub>$]$ +$ \\displaystyle\\sum_{0\\leq j\\leq n}^{} \\displaystyle\\sum_{0\\leq m\\leq n}^{}$ $E[X$<sub>$ij$</sub> $X$<sub>$im$</sub>$]$ ; con $m\\neq j$\n",
        "\n",
        "  - **Calcular el valor esperado**: Matemáticamente, se evalua el valor esperado como la posibilidad de que ocurra un evento cualquiera + la posibilidad de que no ocurra aquel evento. Por eso, es posible representar los eventos esperados como:\n",
        "    \n",
        "    - $E[X$<sub>$ij$</sub>$]$ $=$ $1^2 * 1/n + 0^2 * (1-1/n)$ $= 1/n$\n",
        "  - Al ser evento independientes, pero de características similares. $X$<sub>$ij$</sub> e $X$<sub>$im$</sub> valen lo mismo.\n",
        "    - $E[X$<sub>$ij$</sub> $X$<sub>$im$</sub>$]$ $=$ $1/n * 1/n = 1/n^2$\n",
        "\n",
        "  - Reemplazando en las sumatorias y desarrollo:\n",
        "    - $E[n_i^2] = \\displaystyle\\sum_{j = 0}^{n-1}$ $1/n$ + $ \\displaystyle\\sum_{0\\leq j\\leq n}^{} \\displaystyle\\sum_{0\\leq m\\leq n}^{}$ $1/n^2$ ; con $m\\neq j$\n",
        "    - $E[n_i^2]$ $=$ $n * 1/n + n * (n-1) *1/n^2$\n",
        "    - $E[n_i^2]$ $=$ $1 + (n-1)/n$\n",
        "    - $E[n_i^2]$ $=$ $2 - 1/n$\n",
        "\n",
        "  - Obtenido el valor de E[n_i^2], se puede obtener el tiempo de ejecución de este paso utilizando la fórmula descrita al inicio del procedimiento:\n",
        "    \n",
        "    - $E[T(n)] = \\displaystyle\\sum_{i = 0}^{n-1} O(2 - 1/n)$\n",
        "    - $E[T(n)] = n * O(2 - 1/n)$\n",
        "    - $E[T(n)] = O(2n-1) = θ(n)$\n",
        "\t\n",
        "Dado los resultados del procedimiento descrito, el tiempo de ejecución promedio sería entonces de θ(n).\n",
        "\n",
        "---\n",
        "###Paso 4. ---> Juntar los \"*Buckets*\" en el arreglo original:\n",
        "\n",
        "Para el último paso, el algoritmo debe \"vacíar\" los \"*Buckets*\" en orden de intervalo menor a mayor dentro del arreglo A. El código que realiza esta función es el siguiente:\n",
        "```\n",
        "def bucketSort (A):\n",
        "    (...)\n",
        "\n",
        "    # Declarar contador de posición.\n",
        "    cont = 0\n",
        "    # Depositar los elementos ordenados de cada Bucket.\n",
        "    for i in range(len(Buckets)):\n",
        "        for j in range(len(Buckets[i])):\n",
        "            A[cont] = Buckets[i][j]\n",
        "            cont += 1\n",
        "          \n",
        "    return A\n",
        "```\n",
        "Para construir el código se utilizó dos ciclo for, los cuales dependen de la cantidad de la cantidad de intervalos (cantidad de \"*Buckets*\"), puesto a que debe recorrer cada \"*Bucket*\" para vacíar sus elementos. Sin embargo, no todas las iteraciones se llevan a cabo, puesto que sólo se realizan operaciones constantes al momento de insertar un elemento de $Buckets[i]$. A causa de lo anterior, se puede inferir que este paso realiza $n$ iteraciones con operaciones constantes, por lo que se concluye que su complejidad temporal es de **$θ(n)$**.\n",
        "\n",
        "---\n",
        "###Conclusión:\n",
        "\n",
        "Finalmente, teniendo analizados todos los pasos del algoritmo, se concluyen las siguientes afirmaciones respecto a la complejidad temporal del mismo:\n",
        "\n",
        "- Mejor Caso: $θ(k) + θ(n) + Ω(k) + θ(n)$    \n",
        "  --->  $O(n+k)$\n",
        "- Peor Caso: $θ(k) + θ(n) + O(n^2) + θ(n)$   \n",
        "  --->  $O(n^2)$\n",
        "- Caso Promedio: $θ(k) + θ(n) + θ(n) + θ(n)$ \n",
        "  \n",
        "  --->  $O(n+k)$\n"
      ],
      "metadata": {
        "id": "0BbDDE9JSDWg"
      }
    },
    {
      "cell_type": "markdown",
      "source": [
        "##5. Experimentación\n",
        "\n",
        "En razón de culminar el análisis hecho, se presentarán una serie de experimentos realizados con el objetivo de probar las características del algoritmo **BucketSort**:\n",
        "\n",
        "---\n",
        "###Comparación con otros algoritmos:\n",
        "\n",
        "El principal experimento a mostrar es la comparación de **BucketSort** con otros algoritmos de ordenamiento. Para visibilizar la diferencia que puede otorgar el tiempo de ejecución, se implentarán distintas comparaciones con algoritmos que presenten distintos tipos de complejidades: \n",
        "\n",
        "El caso general para evaluar el funcionamiento y eficiencia de los métodos, se ordenarán arreglos de números enteros aleatorios que tengan entre 25 y 500 elementos.\n",
        "\n",
        "A continuación se presenta el código modificado para números enteros de BucketSort:"
      ],
      "metadata": {
        "id": "ZxPUVB7SxuBK"
      }
    },
    {
      "cell_type": "code",
      "source": [
        "#Implementado para números enteros\n",
        "def bucketSort (A): \n",
        "    # Crear Arreglo de \"Buckets\".\n",
        "    Buckets = []\n",
        "\n",
        "    #Definir cantidad (rango) de intervalos.\n",
        "    k = 500 #El rango en números enteros es el número de mayor valor posible.\n",
        "\n",
        "    # Llenar el arreglo de \"Buckets\" vacíos.\n",
        "    for i in range (0,k):\n",
        "        Buckets.append([])\n",
        "\n",
        "    # Insertar los elementos en su \"Bucket\" correspondiente.\n",
        "    for j in range (0,len(A)):\n",
        "        #Casteo para convertir decimal a entero (índice).\n",
        "        BucketIndex = int(A[j])\n",
        "        Buckets[BucketIndex].append(A[j])\n",
        "    \n",
        "    # Ordenar los elementos de cada \"Bucket\" con InsertionSort.\n",
        "    for i in range(len(Buckets)):\n",
        "        Buckets[i] = insertionSort(Buckets[i])\n",
        "\n",
        "    # Declarar contador de posición.\n",
        "    cont = 0\n",
        "    # Depositar los elementos ordenados de cada Bucket.\n",
        "    for i in range(len(Buckets)):\n",
        "        for j in range(len(Buckets[i])):\n",
        "            A[cont] = Buckets[i][j]\n",
        "            cont += 1\n",
        "    \n",
        "    #Retornar el arreglo ordenado.\n",
        "    return A"
      ],
      "metadata": {
        "id": "kN4njOkY4Enq"
      },
      "execution_count": 191,
      "outputs": []
    },
    {
      "cell_type": "markdown",
      "source": [
        "- **Comparación con algoritmos de crecimiento exponencial**:\n",
        "  \n",
        "  - Para esta parte del experimento, se pondrá frente a frente a BucketSort y su algoritmo de apoyo InsertionSort. También se utilizará BubbleSort cuyo código es el siguiente:"
      ],
      "metadata": {
        "id": "nTXNsnEq6awi"
      }
    },
    {
      "cell_type": "code",
      "source": [
        "def bubbleSort(a):\n",
        "    n = len(a)\n",
        "    for i in range(1,n+1):\n",
        "        # Flag que indica si el arreglo ya se encuentra ordenado\n",
        "        already_sorted = True\n",
        "        # Se recorre el arreglo\n",
        "        for j in range(n - i):\n",
        "            if a[j] > a[j + 1]:\n",
        "                # Si el elemento es mayor al siguiente se intercambia\n",
        "                a[j], a[j + 1] = a[j + 1], a[j]\n",
        "                already_sorted = False\n",
        "        if already_sorted:\n",
        "            break\n",
        "    return a"
      ],
      "metadata": {
        "id": "n621UZQ67J3Q"
      },
      "execution_count": 167,
      "outputs": []
    },
    {
      "cell_type": "markdown",
      "source": [
        "  - BucketSort v/s Crecimiento Exponencial."
      ],
      "metadata": {
        "id": "6OjBGPEr67wg"
      }
    },
    {
      "cell_type": "code",
      "source": [
        "import matplotlib.pyplot as plt\n",
        "import random\n",
        "import datetime\n",
        "from timeit import repeat\n",
        "\n",
        "x=[]; y=[]\n",
        "x1=[]; y1=[]\n",
        "x2=[]; y2=[]\n",
        "\n",
        "for n in range(25,500):\n",
        "  a = random.sample(range(1, 500), n)\n",
        "  #La función repeat ejecuta 20 veces los algoritmos de ordenamiento con el arreglo a y retorna el mejor tiempo obtenido.\n",
        "  t = repeat(setup=\"from __main__ import insertionSort\", stmt=f\"insertionSort({a})\", repeat=1, number=10)\n",
        "  t2 = repeat(setup=\"from __main__ import bubbleSort\", stmt=f\"bubbleSort({a})\", repeat=1, number=10)\n",
        "  t3 = repeat(setup=\"from __main__ import bucketSort\", stmt=f\"bucketSort({a})\", repeat=1, number=10)\n",
        "\n",
        "  x.append(n)\n",
        "  y.append(t)\n",
        "  x1.append(n)\n",
        "  y1.append(t2)\n",
        "  x2.append(n)\n",
        "  y2.append(t3)\n",
        "\n",
        "plt.plot(x,y)\n",
        "plt.plot(x1,y1)\n",
        "plt.plot(x2,y2)\n",
        "plt.legend([\"InsertionSort\",\"BubbleSort\",\"BucketSort\"])\n",
        "\n",
        "plt.xlabel('Cantidad de Elementos en el Arreglo')\n",
        "plt.ylabel('Tiempo en Milisegundos')\n",
        "plt.show()"
      ],
      "metadata": {
        "colab": {
          "base_uri": "https://localhost:8080/",
          "height": 279
        },
        "id": "5zBNJysC7fdo",
        "outputId": "798a30f1-b859-414a-c8c2-bc90b56f5b5f"
      },
      "execution_count": 174,
      "outputs": [
        {
          "output_type": "display_data",
          "data": {
            "text/plain": [
              "<Figure size 432x288 with 1 Axes>"
            ],
            "image/png": "[encoded data removed]"
          },
          "metadata": {
            "needs_background": "light"
          }
        }
      ]
    },
    {
      "cell_type": "markdown",
      "source": [
        "- **Análisis**: En este gráfico se observa como **BucketSort** es dibujado como una línea recta, lo que asimila a su característica de ser un algoritmo de ordenamiento lineal. Se puede observar la clara diferencia entre los 3 algoritmos de ordenamiento. Cabe destacar que con arreglos de menor tamaño quedaron equiparados, mas **BucketSort** le sacó bastante ventaja a BubbleSort e InsertionSort a medida iba aumentando la cantidad de elementos a ordenar. También se aprecian ciertos *picks* de tiempo en los métodos aplicados.\n",
        "---\n",
        "- **Comparación con algoritmos de crecimiento logarítmico**:\n",
        "  \n",
        "  - Para esta parte del experimento, se pondrá a prueba a BucketSort enfrentándolo contra MergeSort y QuickSort. El código de ambos métodos rivales está escrito en el siguiente bloque:"
      ],
      "metadata": {
        "id": "P1s8vr7U7ROl"
      }
    },
    {
      "cell_type": "code",
      "source": [
        "#Función Merge.\n",
        "def Merge(A,p,q,r):\n",
        "    Left = []; Right = []\n",
        "    sizeL = q - p + 1\n",
        "    sizeR = r - q\n",
        "    for i in range (0, sizeL):\n",
        "      Left.append(A[p+i])\n",
        "    for j in range (0, sizeR):\n",
        "      Right.append(A[q+1+j])\n",
        "    i = 0; j = 0; k = p\n",
        "    while (i < len(Left) and j < len(Right)):\n",
        "        if (Left[i] <= Right[j]):\n",
        "            A[k] = Left[i]\n",
        "            i += 1\n",
        "        else:\n",
        "            A[k] = Right[j]\n",
        "            j += 1\n",
        "        k += 1\n",
        "    while (i < len(Left)):\n",
        "        A[k] = Left[i]\n",
        "        i += 1\n",
        "        k += 1\n",
        "    while (j < len(Right)):\n",
        "        A[k] = Right[j]\n",
        "        j += 1\n",
        "        k += 1\n",
        "\n",
        "#Algoritmo MergeSort.\n",
        "def MergeSort(A, p, r):\n",
        "   if p==r: return\n",
        "   q = int((p+r)/2) \n",
        "   MergeSort(A,p,q) \n",
        "   MergeSort(A,q+1,r) \n",
        "   Merge(A,p,q,r) \n",
        "\n",
        "# Función Partition\n",
        "def partition(array, low, high):\n",
        "  pivot = array[high]\n",
        "  i = low - 1\n",
        "  for j in range(low, high):\n",
        "    if array[j] <= pivot:\n",
        "      i = i + 1\n",
        "      (array[i], array[j]) = (array[j], array[i])\n",
        "  (array[i + 1], array[high]) = (array[high], array[i + 1])\n",
        "  return i + 1\n",
        "  \n",
        "# Función Quicksort\n",
        "def quickSort(array, low, high):\n",
        "  if low < high:\n",
        "    pi = partition(array, low, high)\n",
        "    quickSort(array, low, pi - 1)\n",
        "    quickSort(array, pi + 1, high)"
      ],
      "metadata": {
        "id": "4tOUlnrX03Yy"
      },
      "execution_count": 176,
      "outputs": []
    },
    {
      "cell_type": "markdown",
      "source": [
        "  - BucketSort v/s Crecimiento Logarítmico."
      ],
      "metadata": {
        "id": "0Z8VKy8S-roc"
      }
    },
    {
      "cell_type": "code",
      "source": [
        "x=[]; y=[]\n",
        "x1=[]; y1=[]\n",
        "x2=[]; y2=[]\n",
        "\n",
        "for n in range(25,500):\n",
        "  a = random.sample(range(1, 500), n)\n",
        "  #La función repeat ejecuta 20 veces los algoritmos de ordenamiento con el arreglo a y retorna el mejor tiempo obtenido.\n",
        "  t = repeat(setup=\"from __main__ import MergeSort\", stmt=f\"MergeSort({a},{0},{len(a)-1})\", repeat=1, number=10)\n",
        "  t2 = repeat(setup=\"from __main__ import quickSort\", stmt=f\"quickSort({a}, {0}, {len(a)-1})\", repeat=1, number=10)\n",
        "  t3 = repeat(setup=\"from __main__ import bucketSort\", stmt=f\"bucketSort({a})\", repeat=1, number=10)\n",
        "\n",
        "  x.append(n)\n",
        "  y.append(t)\n",
        "  x1.append(n)\n",
        "  y1.append(t2)\n",
        "  x2.append(n)\n",
        "  y2.append(t3)\n",
        "\n",
        "plt.plot(x,y)\n",
        "plt.plot(x1,y1)\n",
        "plt.plot(x2,y2)\n",
        "plt.legend([\"MergeSort\",\"QuickSort\",\"BucketSort\"])\n",
        "\n",
        "plt.xlabel('Cantidad de Elementos en el Arreglo')\n",
        "plt.ylabel('Tiempo en Milisegundos')\n",
        "plt.show()"
      ],
      "metadata": {
        "colab": {
          "base_uri": "https://localhost:8080/",
          "height": 279
        },
        "id": "3jRQy1_WyPwV",
        "outputId": "a2ba558a-d8e2-4cd0-ee56-5dc007ac1c43"
      },
      "execution_count": 181,
      "outputs": [
        {
          "output_type": "display_data",
          "data": {
            "text/plain": [
              "<Figure size 432x288 with 1 Axes>"
            ],
            "image/png": "[encoded data removed]"
          },
          "metadata": {
            "needs_background": "light"
          }
        }
      ]
    },
    {
      "cell_type": "markdown",
      "source": [
        "- **Análisis**: En este gráfico también es posible asimilar el resultado de BucketSort como si fuera una línea recta. Se puede observar la clara diferencia entre los 3 algoritmos de ordenamiento. Es destacable que QuickSort logró equiparar y hasta superar durante un momento a **BucketSort** en eficiencia, pero en cuanto la cantidad de datos a ordenar aumentaba, BucketSort tomó la ventaja. También se aprecian ciertos *picks* de tiempo en los métodos aplicados.\n",
        "---\n",
        "- **Comparación con algoritmos de crecimiento lineal**:\n",
        "  \n",
        "  - Por último, se pondrá a prueba a BucketSort enfrentándolo contra CountingSort y RadixSort. El código de ambos métodos rivales está escrito en el siguiente bloque:"
      ],
      "metadata": {
        "id": "kQw6xT33-_VI"
      }
    },
    {
      "cell_type": "code",
      "source": [
        "#CountingSort\n",
        "def countingSort(arr, exp1):\n",
        "    n = len(arr)\n",
        "    output = [0] * (n)\n",
        "    count = [0] * (10)\n",
        "    for i in range(0, n):\n",
        "        index = arr[i] // exp1\n",
        "        count[index % 10] += 1\n",
        "    for i in range(1, 10):\n",
        "        count[i] += count[i - 1]\n",
        "    i = n - 1\n",
        "    while i >= 0:\n",
        "        index = arr[i] // exp1\n",
        "        output[count[index % 10] - 1] = arr[i]\n",
        "        count[index % 10] -= 1\n",
        "        i -= 1\n",
        "    i = 0\n",
        "    for i in range(0, len(arr)):\n",
        "        arr[i] = output[i]\n",
        " \n",
        "#RadixSort\n",
        "def radixSort(arr):\n",
        "    max1 = max(arr)\n",
        "    exp = 1\n",
        "    while max1 / exp >= 1:\n",
        "        countingSort(arr, exp)\n",
        "        exp *= 10"
      ],
      "metadata": {
        "id": "dK8ksaSY_Ki4"
      },
      "execution_count": 183,
      "outputs": []
    },
    {
      "cell_type": "markdown",
      "source": [
        "  - BucketSort v/s Crecimiento Lineal."
      ],
      "metadata": {
        "id": "n6L9sGhLCtJA"
      }
    },
    {
      "cell_type": "code",
      "source": [
        "x=[]; y=[]\n",
        "x1=[]; y1=[]\n",
        "x2=[]; y2=[]\n",
        "\n",
        "for n in range(25,500):\n",
        "  a = random.sample(range(1, 500), n)\n",
        "  #La función repeat ejecuta 20 veces los algoritmos de ordenamiento con el arreglo a y retorna el mejor tiempo obtenido.\n",
        "  t = repeat(setup=\"from __main__ import countingSort\", stmt=f\"countingSort({a},{1})\", repeat=1, number=10)\n",
        "  t2 = repeat(setup=\"from __main__ import radixSort\", stmt=f\"radixSort({a})\", repeat=1, number=10)\n",
        "  t3 = repeat(setup=\"from __main__ import bucketSort\", stmt=f\"bucketSort({a})\", repeat=1, number=10)\n",
        "\n",
        "  x.append(n)\n",
        "  y.append(t)\n",
        "  x1.append(n)\n",
        "  y1.append(t2)\n",
        "  x2.append(n)\n",
        "  y2.append(t3)\n",
        "\n",
        "plt.plot(x,y)\n",
        "plt.plot(x1,y1)\n",
        "plt.plot(x2,y2)\n",
        "plt.legend([\"CountingSort\",\"RadixSort\",\"BucketSort\"])\n",
        "\n",
        "plt.xlabel('Cantidad de Elementos en el Arreglo')\n",
        "plt.ylabel('Tiempo en Milisegundos')\n",
        "plt.show()"
      ],
      "metadata": {
        "colab": {
          "base_uri": "https://localhost:8080/",
          "height": 279
        },
        "id": "xCDBF6ea_s3j",
        "outputId": "f552ab36-9338-4347-c10f-c7d6ed5f1042"
      },
      "execution_count": 192,
      "outputs": [
        {
          "output_type": "display_data",
          "data": {
            "text/plain": [
              "<Figure size 432x288 with 1 Axes>"
            ],
            "image/png": "[encoded data removed]"
          },
          "metadata": {
            "needs_background": "light"
          }
        }
      ]
    },
    {
      "cell_type": "markdown",
      "source": [
        "- **Análisis**: En este gráfico es posible comparar de mejor forma los algoritmos de ordenamiento lineal. Se puede observar la diferencia entre los 3 métodos de ordenamiento, mas esta es muy pequeña. Es destacable que CountingSort es el ganador entre los 3 algoritmos, ya que en ningún momento perdió la ventaja. **BucketSort** logró equiparar y superar a RadixSort, y basado en la pendiente que forma el gráfico, es posible que logré superar a CountingSort en pruebas con más cantidad de elementos. También se aprecian ciertos *picks* de tiempo en los métodos aplicados.\n",
        "\n",
        "- **Conclusión Final**: Respecto a los 3 gráficos dibujados y sus datos registrados, es posible indicar que los algoritmos de ordenamiento lineal son claramente superiores a sus pares de crecimiento exponencial y logarítmico. Los datos mostrados en las gráficas dan a entender que en arreglos y datos de gran escala (como datos estadísticos) estos algoritmos serían muy útiles debido a su bajo tiempo de ejecución. Es también, la comparación entre InsertionSort y **BucketSort**, muy interesante de analizar. Puesto a que el último mencionado utiliza al otro como algoritmo de apoyo, sin embargo **BucketSort** consigue distribuir la carga al algoritmo de modo que este ordene la misma cantidad de elementos en un tiempo menor de ejecución. Los *picks* de tiempo podrían explicarse por ciertos casos que necesitaron mayor procesamiento de datos, o bien por un factor de la máquina (o disco duro) que aletargó el proceso."
      ],
      "metadata": {
        "id": "-GV9KtztCFfE"
      }
    },
    {
      "cell_type": "markdown",
      "source": [
        "---\n",
        "###Comparación con rangos distintos:\n",
        "\n",
        "La naturaleza de BucketSort depende de formar un rango de intervalos para crear sus \"*Buckets*\" característicos, por eso, un aspecto interesante para analizar es que tanto puede afectar el valor de este rango. A continuación se muestra un experimento con 3 algoritmos BucketSort que tengan distintos valores en la variable k:\n",
        "\n",
        "La implementación para BucketSort a utilizar es la siguiente:"
      ],
      "metadata": {
        "id": "9jVtJOQGJO5j"
      }
    },
    {
      "cell_type": "code",
      "source": [
        "#Implementado para números enteros\n",
        "def bucketSort_k (A, k): \n",
        "    # Crear Arreglo de \"Buckets\".\n",
        "    Buckets = []\n",
        "\n",
        "    # Llenar el arreglo de \"Buckets\" vacíos.\n",
        "    for i in range (0,k):\n",
        "        Buckets.append([])\n",
        "\n",
        "    # Insertar los elementos en su \"Bucket\" correspondiente.\n",
        "    for j in range (0,len(A)):\n",
        "        #Casteo para convertir decimal a entero (índice).\n",
        "        BucketIndex = int(A[j]//(1000/k))\n",
        "        Buckets[BucketIndex].append(A[j])\n",
        "    \n",
        "    # Ordenar los elementos de cada \"Bucket\" con InsertionSort.\n",
        "    for i in range(len(Buckets)):\n",
        "        Buckets[i] = insertionSort(Buckets[i])\n",
        "\n",
        "    # Declarar contador de posición.\n",
        "    cont = 0\n",
        "    # Depositar los elementos ordenados de cada Bucket.\n",
        "    for i in range(len(Buckets)):\n",
        "        for j in range(len(Buckets[i])):\n",
        "            A[cont] = Buckets[i][j]\n",
        "            cont += 1\n",
        "    \n",
        "    #Retornar el arreglo ordenado.\n",
        "    return A"
      ],
      "metadata": {
        "id": "ID_0JdJrLZyP"
      },
      "execution_count": 233,
      "outputs": []
    },
    {
      "cell_type": "markdown",
      "source": [
        "El caso general para evaluar el funcionamiento y eficiencia de los métodos será el mismo que en el experimento anterior, se ordenarán arreglos de números enteros aleatorios que tengan entre 50 y 1000 elementos."
      ],
      "metadata": {
        "id": "m2ezaFnaMBIO"
      }
    },
    {
      "cell_type": "code",
      "source": [
        "x1=[]; y1=[]\n",
        "x2=[]; y2=[]\n",
        "x3=[]; y3=[]\n",
        "x4=[]; y4=[]\n",
        "x5=[]; y5=[]\n",
        "\n",
        "for n in range(50,1000):\n",
        "  a = random.sample(range(1, 1000), n)\n",
        "  #La función repeat ejecuta 20 veces los algoritmos de ordenamiento con el arreglo a y retorna el mejor tiempo obtenido.\n",
        "  t1 = repeat(setup=\"from __main__ import bucketSort_k\", stmt=f\"bucketSort_k({a}, {10})\", repeat=1, number=10)\n",
        "  t2 = repeat(setup=\"from __main__ import bucketSort_k\", stmt=f\"bucketSort_k({a}, {50})\", repeat=1, number=10)\n",
        "  t3 = repeat(setup=\"from __main__ import bucketSort_k\", stmt=f\"bucketSort_k({a}, {100})\", repeat=1, number=10)\n",
        "  t4 = repeat(setup=\"from __main__ import bucketSort_k\", stmt=f\"bucketSort_k({a}, {250})\", repeat=1, number=10)\n",
        "  t5 = repeat(setup=\"from __main__ import bucketSort_k\", stmt=f\"bucketSort_k({a}, {1000})\", repeat=1, number=10)\n",
        "\n",
        "  x1.append(n)\n",
        "  y1.append(t1)\n",
        "  x2.append(n)\n",
        "  y2.append(t2)\n",
        "  x3.append(n)\n",
        "  y3.append(t3)\n",
        "  x4.append(n)\n",
        "  y4.append(t4)\n",
        "  x5.append(n)\n",
        "  y5.append(t5)\n",
        "\n",
        "plt.plot(x1,y1)\n",
        "plt.plot(x2,y2)\n",
        "plt.plot(x3,y3)\n",
        "plt.plot(x4,y4)\n",
        "plt.plot(x5,y5)\n",
        "plt.legend([\"BucketSort (k = 10)\",\"BucketSort (k = 50)\",\"BucketSort (k = 100)\", \"BucketSort (k = 250)\", \"BucketSort (k = 1000)\"])\n",
        "\n",
        "plt.xlabel('Cantidad de Elementos en el Arreglo')\n",
        "plt.ylabel('Tiempo en Milisegundos')\n",
        "plt.show()"
      ],
      "metadata": {
        "colab": {
          "base_uri": "https://localhost:8080/",
          "height": 279
        },
        "id": "D2k9oO98LmE-",
        "outputId": "8c8341c8-d876-41bf-effa-3eefd2965709"
      },
      "execution_count": 236,
      "outputs": [
        {
          "output_type": "display_data",
          "data": {
            "text/plain": [
              "<Figure size 432x288 with 1 Axes>"
            ],
            "image/png": "[encoded data removed]"
          },
          "metadata": {
            "needs_background": "light"
          }
        }
      ]
    },
    {
      "cell_type": "markdown",
      "source": [
        "-**Análisis**: Se puede observar en la gráfica los **BucketSort** que ocupan menos intervalos tienden a empezar bastante bien, pero con el tiempo su crecimiento aumenta hasta volverse exponencial.\n",
        "\n",
        "-**Explicación**: La variable $k$ afecta en el tiempo de ejecución debido a que determina la cantidad de intervalos que tendrá el arreglo \"*Buckets*\". A raíz de lo anterior, mientras más valor tenga $k$, más uniforme y equitativa será la distribución de elementos. Eso sí, cabe destacar que los algoritmos que utilizaron un $k$ más pequeño logran un tiempo de ejecución decente al inicio, puesto que el valor de $k$ también suma por sí mismo a la cantidad de comparaciones necesarias para el ordenamiento, aunque la pendiente tenga una inclinación más pronunciada."
      ],
      "metadata": {
        "id": "hU5of2aNRTP-"
      }
    }
  ]
}